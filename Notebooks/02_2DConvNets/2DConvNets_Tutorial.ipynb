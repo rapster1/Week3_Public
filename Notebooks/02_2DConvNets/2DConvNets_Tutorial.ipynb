{
  "nbformat": 4,
  "nbformat_minor": 0,
  "metadata": {
    "colab": {
      "name": "2DConvNets_Tutorial.ipynb",
      "provenance": []
    },
    "kernelspec": {
      "display_name": "Python 3",
      "language": "python",
      "name": "python3"
    },
    "language_info": {
      "codemirror_mode": {
        "name": "ipython",
        "version": 3
      },
      "file_extension": ".py",
      "mimetype": "text/x-python",
      "name": "python",
      "nbconvert_exporter": "python",
      "pygments_lexer": "ipython3",
      "version": "3.7.6"
    },
    "accelerator": "TPU"
  },
  "cells": [
    {
      "cell_type": "markdown",
      "metadata": {
        "colab_type": "text",
        "id": "a7scg4EGMfYk"
      },
      "source": [
        "# Building a 2D CNN for Image Classification\n",
        "In this tutorial, we will be learning how to build a 2D version of a Convolutional Nerual Network (CNN).\n",
        "\n",
        "\n",
        "For this example, we will again be using the same dataset of histological images: http://dx.doi.org/10.5281/zenodo.53169. \n",
        "\n",
        "![Example histological images for classes a through f](https://raw.githubusercontent.com/BeaverWorksMedlytics2020/Data_Public/master/Images/Week3/Representative-images-the-first-10-images-of-every-tissue-class.png?token=ADGRCSE2YIYWUNCJTHNB5XK67T4HE)"
      ]
    },
    {
      "cell_type": "markdown",
      "metadata": {
        "colab_type": "text",
        "id": "GESM76HY9Dea"
      },
      "source": [
        "# Imports\n",
        "Start by importing the packages and modules we will be needing for this project."
      ]
    },
    {
      "cell_type": "code",
      "metadata": {
        "colab_type": "code",
        "id": "W86Oi6dCMfYp",
        "colab": {}
      },
      "source": [
        "# Basic operating system (os), numerical, and plotting functionality\n",
        "import os\n",
        "import numpy as np\n",
        "import matplotlib.pyplot as plt\n",
        "\n",
        "# scikit-learn data utilities\n",
        "from sklearn.model_selection import train_test_split\n",
        "import skimage.transform as image_transform\n",
        "\n",
        "# scikit-learn performance metric utilities\n",
        "from sklearn.metrics import confusion_matrix\n",
        "from sklearn.metrics import accuracy_score\n",
        "\n",
        "# Import our neural network building tools\n",
        "import tensorflow as tf\n",
        "\n",
        "# Garbage collection (for saving RAM during training)\n",
        "import gc"
      ],
      "execution_count": 1,
      "outputs": []
    },
    {
      "cell_type": "markdown",
      "metadata": {
        "colab_type": "text",
        "id": "Ta7q5xwIllSi"
      },
      "source": [
        "# Retrieve and Load the Data\n",
        "The following cell checks if the histological images have already been downloaded into the current Colab session and downloads them if not."
      ]
    },
    {
      "cell_type": "code",
      "metadata": {
        "colab_type": "code",
        "id": "KJvH96N6J4tP",
        "colab": {
          "base_uri": "https://localhost:8080/",
          "height": 102
        },
        "outputId": "2662e149-abc1-4f9b-8759-3b296dc279a2"
      },
      "source": [
        "# Define the current directory and the directory where the files to download can\n",
        "# be found\n",
        "current_dir = '/content'\n",
        "remote_path = 'https://github.com/BeaverWorksMedlytics2020/Data_Public/raw/master/NotebookExampleData/Week3/data_nuclei/crc/'\n",
        "\n",
        "# Define and build a directory to save this data in\n",
        "data_dir = '/content/crc_data'\n",
        "if not os.path.isdir(data_dir):\n",
        "  os.mkdir(data_dir)\n",
        "\n",
        "# Move into the data directory and download all of the files\n",
        "os.chdir(data_dir)\n",
        "for ii in range(1, 6):\n",
        "    basename = f'rgb0{ii}.npz'\n",
        "    filename = os.path.join(remote_path, basename)\n",
        "\n",
        "    # Check if the file has already been downloaded\n",
        "    if not os.path.isfile(basename):\n",
        "      cmd = f'wget {filename}'\n",
        "      print(cmd)\n",
        "      os.system(cmd)\n",
        "\n",
        "# Return to the original directory\n",
        "os.chdir(current_dir)"
      ],
      "execution_count": 2,
      "outputs": [
        {
          "output_type": "stream",
          "text": [
            "wget https://github.com/BeaverWorksMedlytics2020/Data_Public/raw/master/NotebookExampleData/Week3/data_nuclei/crc/rgb01.npz\n",
            "wget https://github.com/BeaverWorksMedlytics2020/Data_Public/raw/master/NotebookExampleData/Week3/data_nuclei/crc/rgb02.npz\n",
            "wget https://github.com/BeaverWorksMedlytics2020/Data_Public/raw/master/NotebookExampleData/Week3/data_nuclei/crc/rgb03.npz\n",
            "wget https://github.com/BeaverWorksMedlytics2020/Data_Public/raw/master/NotebookExampleData/Week3/data_nuclei/crc/rgb04.npz\n",
            "wget https://github.com/BeaverWorksMedlytics2020/Data_Public/raw/master/NotebookExampleData/Week3/data_nuclei/crc/rgb05.npz\n"
          ],
          "name": "stdout"
        }
      ]
    },
    {
      "cell_type": "markdown",
      "metadata": {
        "colab_type": "text",
        "id": "tDGLNYFqJ90l"
      },
      "source": [
        "The downloaded \".npz\" archives can now be read into memory and parsed using our data loading function copied from the previous tutorial."
      ]
    },
    {
      "cell_type": "code",
      "metadata": {
        "colab_type": "code",
        "id": "Y9rC7eJMllSv",
        "colab": {}
      },
      "source": [
        "# Define a function to load the data from the assumed download path\n",
        "def load_images(colorspace='rgb'):\n",
        "    \"\"\"\n",
        "    Loads the example data and applies transformation into requested colorspace\n",
        "\n",
        "    Arguments\n",
        "    ---------\n",
        "    colorspace : str, optional, default: `rgb`\n",
        "        The colorspace into which the images should be transformed. Accepted\n",
        "        values include\n",
        "\n",
        "        'rgb' : Standard red-green-blue color-space for digital images\n",
        "\n",
        "        'gray' or 'grey': An arithmetic average of the (r, g, b) values\n",
        "\n",
        "        'lab': The CIE L* a* b* colorspace\n",
        "    \n",
        "    Returns\n",
        "    -------\n",
        "    images : numpy.ndarray, shape (Nimg, Ny, Nx, Ncolor)\n",
        "        The complete set of transformed images\n",
        "\n",
        "    labels : numpy.ndarray, shape (Nimg)\n",
        "        The classification labels associated with each entry in `images`\n",
        "\n",
        "    label_to_str : dict\n",
        "        A dictionary which converts the numerical classification value in\n",
        "        `labels` into its string equivalent representation.\n",
        "    \"\"\"\n",
        "    # Check that the colorspace argument is recognized\n",
        "    colorspace_lower = colorspace.lower()\n",
        "    if colorspace_lower not in ['rgb', 'gray', 'grey', 'lab']:\n",
        "        raise ValueError(f'`colorspace` value of {colorspace} not recognized')\n",
        "\n",
        "    # Load data, which is stored as a numpy archive file (.npz)\n",
        "    filename = os.path.join(data_dir, 'rgb01.npz')\n",
        "    print(f'loading {filename}')\n",
        "    tmp = np.load(os.path.join(data_dir, 'rgb01.npz'), allow_pickle=True)\n",
        "\n",
        "    # Parse the loaded data into images and labels\n",
        "    # Initialize the images and labels variables using the first archive data\n",
        "    images = tmp['rgb_data']\n",
        "    if colorspace_lower == 'rgb':\n",
        "        pass\n",
        "    elif colorspace_lower in ['gray', 'grey']:\n",
        "        images = np.mean(images, axis=-1)      # Average into grayscale\n",
        "    elif colorspace_lower == 'lab':\n",
        "        images = rgb2lab(images)               # Convert to CIE L*a*b*\n",
        "\n",
        "    # Grab the initial array for the image labels\n",
        "    labels = tmp['labels']\n",
        "    \n",
        "    # Grab the dictionary to convert numerical labels to their string equivalent\n",
        "    label_to_str = tmp['label_str']\n",
        "    label_to_str = label_to_str.tolist() # Convert label_to_str into a dict\n",
        "\n",
        "    # Update the user on the number and size of images loaded\n",
        "    print('Loaded images with shape {}'.format(images.shape))\n",
        "    del tmp\n",
        "\n",
        "    # Loop over each of the remaining archives and append the contained data\n",
        "    for ii in range(2,6):\n",
        "        # Build the full path to the archive and load it into memory\n",
        "        filename = os.path.join(data_dir, f'rgb0{ii}.npz')\n",
        "        print(f'loading {filename}')\n",
        "        tmp = np.load(filename, allow_pickle=True)\n",
        "\n",
        "        # Parse and append the data\n",
        "        these_images = tmp['rgb_data']\n",
        "        if colorspace_lower == 'rgb':\n",
        "            pass\n",
        "        elif (colorspace_lower == 'gray') or (colorspace_lower == 'grey'):\n",
        "            these_images = np.mean(these_images, axis=-1) # Convert to grayscale\n",
        "        elif colorspace_lower == 'lab':\n",
        "            these_images = rgb2lab(these_images)          # Convert to CIEL*a*b*\n",
        "\n",
        "        # Append the images and labels\n",
        "        images = np.append(images, these_images, axis=0)\n",
        "        labels = np.append(labels, tmp['labels'], axis=0)\n",
        "\n",
        "        # Update the user on the number and size of images\n",
        "        print('Loaded images with shape {}'.format(these_images.shape))\n",
        "        del tmp\n",
        "\n",
        "    # Force the image data to be floating point and print the data shape\n",
        "    images = images.astype(np.float)\n",
        "    print('Final image data shape: {}'.format(images.shape))\n",
        "    print('Number of image labels: {}'.format(*labels.shape))\n",
        "\n",
        "    return images, labels, label_to_str"
      ],
      "execution_count": 3,
      "outputs": []
    },
    {
      "cell_type": "markdown",
      "metadata": {
        "colab_type": "text",
        "id": "1LGPaPqqrSoQ"
      },
      "source": [
        "With this data-loading function defined, let's load in the grayscale images."
      ]
    },
    {
      "cell_type": "code",
      "metadata": {
        "id": "NsJAjmJgM1Od",
        "colab_type": "code",
        "colab": {
          "base_uri": "https://localhost:8080/",
          "height": 221
        },
        "outputId": "dd604f8b-59af-4c02-abee-8d62d290834e"
      },
      "source": [
        "# Load the data using our data-loading function\n",
        "#\n",
        "# You can change the `colorspace` keyword argument in `load_images` function\n",
        "# call to try to try training classifier an image in another colorspace\n",
        "images_full_res, labels, label_to_str = load_images(colorspace='gray')\n",
        "num_classes = np.unique(labels).size"
      ],
      "execution_count": 4,
      "outputs": [
        {
          "output_type": "stream",
          "text": [
            "loading /content/crc_data/rgb01.npz\n",
            "Loaded images with shape (1000, 150, 150)\n",
            "loading /content/crc_data/rgb02.npz\n",
            "Loaded images with shape (1000, 150, 150)\n",
            "loading /content/crc_data/rgb03.npz\n",
            "Loaded images with shape (1000, 150, 150)\n",
            "loading /content/crc_data/rgb04.npz\n",
            "Loaded images with shape (1000, 150, 150)\n",
            "loading /content/crc_data/rgb05.npz\n",
            "Loaded images with shape (1000, 150, 150)\n",
            "Final image data shape: (5000, 150, 150)\n",
            "Number of image labels: 5000\n"
          ],
          "name": "stdout"
        }
      ]
    },
    {
      "cell_type": "markdown",
      "metadata": {
        "id": "-1_mJOsLM5J-",
        "colab_type": "text"
      },
      "source": [
        "## Pre-process the Images\n",
        "\n",
        "The following cells apply some pre-processing steps to the image data."
      ]
    },
    {
      "cell_type": "markdown",
      "metadata": {
        "id": "Cy0cWNN3aOGa",
        "colab_type": "text"
      },
      "source": [
        "### Resize the Images for Faster Training\n",
        "\n",
        "In the following cell, we resize the images so that they are lower resolution than the originals. This only has a minimal impact on the classifier performance, but it significantly accelerates training."
      ]
    },
    {
      "cell_type": "code",
      "metadata": {
        "id": "U3ue6DZ6M23D",
        "colab_type": "code",
        "colab": {}
      },
      "source": [
        "# Grab the original shape of the images\n",
        "num_images = images_full_res.shape[0]\n",
        "\n",
        "# Specify a desired resizing shape.\n",
        "# NOTE: This can be modified to trade-off between training-speed and performance\n",
        "resize_shape = (48, 48)\n",
        "\n",
        "# Initialize an array for storing the resized images\n",
        "images = np.zeros((num_images,) + resize_shape)\n",
        "\n",
        "# Loop over each image in the data and perform a resizing operation\n",
        "for img_num, img_data in enumerate(images_full_res):\n",
        "    images[img_num] = image_transform.resize(img_data, resize_shape)\n",
        "\n",
        "# Remove the full-resolution versions from memory (just glogging things up)\n",
        "del images_full_res"
      ],
      "execution_count": 5,
      "outputs": []
    },
    {
      "cell_type": "markdown",
      "metadata": {
        "colab_type": "text",
        "id": "PtlCeN4FMfZD"
      },
      "source": [
        "## Normalize the Image Data\n",
        "All images should be normalized to the range $\\left[0, 1\\right]$. The procedure for this will depend on the current colorspace of the images, but some basic guidelines follow:\n",
        "\n",
        "* **RGB and greyscale:** images are often represented with integers in the range $\\left[0, 255\\right]$, so dividing by $255$ will often normalize these images (if they are not already normalized).\n",
        "\n",
        "* **HSV, HSI, HSL:** the Hue (H) channel will typically be represnted by a number in the range $\\left[0^{\\circ}, 360^{\\circ}\\right)$. The Saturation channel channels will often be represented on a scale from $\\left[0, 1\\right]$, in which case no normalization is required. The final channel (Value, Intensity, or Lightness) is often represented by a snumber in the range of either $\\left[0, 1\\right]$ or $\\left[0, 100\\right]$, so a simple investigation should indicate what normalization may be needed for that channel.\n",
        "\n",
        "* **CIE L\\*a\\*b\\*:** The L\\* channel often has a range of $\\left[0, 100\\right]$ while the a\\* and b\\* channels are in the range $\\left[-100, +100\\right]$. In some cases, the data may be represented by signed 8-bit integers, in which case the range of values is acutally maped to the discrete space from $\\left[-128, +127\\right]$, so you may need to examine if your data is integer or float."
      ]
    },
    {
      "cell_type": "code",
      "metadata": {
        "colab_type": "code",
        "id": "_FeL1EP5MfZF",
        "colab": {}
      },
      "source": [
        "# In this notebook, we are only considering greyscale and RGB data, so we\n",
        "# normalize by dividing by 255. If you transform the images into a different \n",
        "# colorspace, you will need to edit this code to properly normalize the data.\n",
        "if images[0,::].max() > 1:\n",
        "    images = images.astype(np.float32)/255.0"
      ],
      "execution_count": 6,
      "outputs": []
    },
    {
      "cell_type": "markdown",
      "metadata": {
        "id": "n5rNnXfmQwRB",
        "colab_type": "text"
      },
      "source": [
        "### Include an Axis for Color Channels\n",
        "In the case where we are operating on grayscale data, there should be an axis at the end of the array of length 1 to match up with TensorFlow expectations. Otherwise, you may get an error about not having the right number of dimensions for input data."
      ]
    },
    {
      "cell_type": "code",
      "metadata": {
        "colab_type": "code",
        "id": "_v912cBGrR4D",
        "colab": {
          "base_uri": "https://localhost:8080/",
          "height": 68
        },
        "outputId": "ed13d832-7192-4ab0-cf6e-7dd1f8a6addd"
      },
      "source": [
        "# Take note of number of color channels in the loaded image add a last axis to \n",
        "# images ndarray if array dimension is only 3 (as is the case with grayscale images)\n",
        "if images.ndim == 3:\n",
        "    n_channels = 1\n",
        "    # If image is grayscale, then we add a last axis (of len 1) for channel\n",
        "    images = images[:, : , :, np.newaxis]\n",
        "    print('\\nlast dimension added to images ndarray to account for channel')\n",
        "    print(f'new images.shape: {images.shape}')\n",
        "else:\n",
        "    #if image is not grayscale, last dimension of image already corresponds to channel\n",
        "    n_channels = images.shape[-1]"
      ],
      "execution_count": 7,
      "outputs": [
        {
          "output_type": "stream",
          "text": [
            "\n",
            "last dimension added to images ndarray to account for channel\n",
            "new images.shape: (5000, 48, 48, 1)\n"
          ],
          "name": "stdout"
        }
      ]
    },
    {
      "cell_type": "markdown",
      "metadata": {
        "id": "QIgUR8ckRtUO",
        "colab_type": "text"
      },
      "source": [
        "## Split the Image and Label Data\n",
        "Now we can split our pre-processed data into a training and test set."
      ]
    },
    {
      "cell_type": "code",
      "metadata": {
        "colab_type": "code",
        "id": "EnTT4tyXMfY9",
        "colab": {
          "base_uri": "https://localhost:8080/",
          "height": 85
        },
        "outputId": "37e74dda-6c3e-4a54-fd06-d2f0df7a8018"
      },
      "source": [
        "# Split into training and testing sets\n",
        "tmp = train_test_split(images, labels, test_size = 0.2)\n",
        "train_images, test_images, train_labels, test_labels = tmp\n",
        "\n",
        "# Convert the labels from 1-D arrays to categorical type (one-hot encoding)\n",
        "train_labels = tf.keras.utils.to_categorical(train_labels)\n",
        "test_labels = tf.keras.utils.to_categorical(test_labels)\n",
        "\n",
        "# Print sizes of train/test sets\n",
        "print(f'train_images.shape: {train_images.shape}')\n",
        "print(f'train_labels.shape: {train_labels.shape}')\n",
        "print(f'test_images.shape: {test_images.shape}')\n",
        "print(f'test_labels.shape: {test_labels.shape}')"
      ],
      "execution_count": 8,
      "outputs": [
        {
          "output_type": "stream",
          "text": [
            "train_images.shape: (4000, 48, 48, 1)\n",
            "train_labels.shape: (4000, 8)\n",
            "test_images.shape: (1000, 48, 48, 1)\n",
            "test_labels.shape: (1000, 8)\n"
          ],
          "name": "stdout"
        }
      ]
    },
    {
      "cell_type": "markdown",
      "metadata": {
        "colab_type": "text",
        "id": "QAgbBOzBMfZI"
      },
      "source": [
        "## Design Your CNN\n",
        "At this point, the data has been split into training and testing sets and normalized. We will now design a fully connected neural network for texture classification. \n",
        "\n",
        "\n",
        "![Example of a CNN Diagram](https://github.com/BeaverWorksMedlytics2020/Data_Public/raw/master/Images/Week3/CNN-example-block-diagram.jpg)\n",
        "\n",
        "\n",
        "(Image originally from http://adventuresinmachinelearning.com/keras-tutorial-cnn-11-lines/ )\n",
        "\n",
        "When designing a fully connected network for classification, we have several decisions to make.\n",
        "\n",
        "**Network Architecuture**\n",
        "* How many layers will our network have ?\n",
        "* How many convolutional filters per layer ?\n",
        "    * What is an appropriate filter size ? \n",
        "* What is an appropriate batch size, learning rate and number of training epochs ?\n",
        "\n",
        "**Data input**\n",
        "* Do we use the raw data ?\n",
        "    * RGB or just gray channel ?\n",
        "* Does the use of different colorspaces lead to better results for a given network architecture ?\n",
        "* Can we use any of the texture features from the previous lab as inputs to this model ?\n",
        "* How does data augmentation affect the results ? \n",
        "\n",
        "Other considerations, we will not be exploring :\n",
        "* What is the trade-off between input data sizes and batch size ?\n",
        "* Is the GPU always the appropriate platform for training ?\n",
        "* How does hardware influence inputs and batch sizes for a given desired accuracy ?"
      ]
    },
    {
      "cell_type": "code",
      "metadata": {
        "colab_type": "code",
        "id": "OsffMC7mMfZQ",
        "colab": {
          "base_uri": "https://localhost:8080/",
          "height": 323
        },
        "outputId": "7f526405-80aa-4118-e4cc-c82b5da26515"
      },
      "source": [
        "# Create your network\n",
        "\n",
        "# Build our model sequentially\n",
        "model = tf.keras.Sequential()\n",
        "\n",
        "# Add input layer\n",
        "model.add(tf.keras.layers.Conv2D(filters=16, kernel_size=8,\n",
        "                                 padding='valid',\n",
        "                                 activation=tf.nn.relu, \n",
        "                                 input_shape=(train_images.shape[1:4])))\n",
        "\n",
        "#use 2D max pooling to reduce size of convolution output before flattening\n",
        "model.add(tf.keras.layers.MaxPooling2D(pool_size=(10,10),\n",
        "                                       strides=3, \n",
        "                                       padding='valid',\n",
        "                                       data_format='channels_last'))\n",
        "\n",
        "#Take all activations from previous layer and flatten them \n",
        "#(often done before a fully connected layer)\n",
        "model.add(tf.keras.layers.Flatten())\n",
        "\n",
        "# Add fully connected layers \n",
        "model.add(tf.keras.layers.Dense(32, activation=tf.nn.relu))\n",
        "\n",
        "# Add final output layer - This should have as many neurons as the number\n",
        "# of classes we are trying to identify\n",
        "model.add(tf.keras.layers.Dense(num_classes, activation=tf.nn.softmax)) \n",
        "\n",
        "# Print a summary of the model\n",
        "model.summary()"
      ],
      "execution_count": 9,
      "outputs": [
        {
          "output_type": "stream",
          "text": [
            "Model: \"sequential\"\n",
            "_________________________________________________________________\n",
            "Layer (type)                 Output Shape              Param #   \n",
            "=================================================================\n",
            "conv2d (Conv2D)              (None, 41, 41, 16)        1040      \n",
            "_________________________________________________________________\n",
            "max_pooling2d (MaxPooling2D) (None, 11, 11, 16)        0         \n",
            "_________________________________________________________________\n",
            "flatten (Flatten)            (None, 1936)              0         \n",
            "_________________________________________________________________\n",
            "dense (Dense)                (None, 32)                61984     \n",
            "_________________________________________________________________\n",
            "dense_1 (Dense)              (None, 8)                 264       \n",
            "=================================================================\n",
            "Total params: 63,288\n",
            "Trainable params: 63,288\n",
            "Non-trainable params: 0\n",
            "_________________________________________________________________\n"
          ],
          "name": "stdout"
        }
      ]
    },
    {
      "cell_type": "markdown",
      "metadata": {
        "colab_type": "text",
        "id": "3DwOWHAVMfZU"
      },
      "source": [
        "## Compile and Train the Model\n",
        "\n",
        "Specify the loss function and optimization routine. Then compile the model you designed. Compiltation of the Keras model initializes the model weights and sets some other model properties."
      ]
    },
    {
      "cell_type": "code",
      "metadata": {
        "colab_type": "code",
        "id": "azIn2h-PMfZV",
        "colab": {}
      },
      "source": [
        "# Specify the loss function to use\n",
        "loss_func = tf.keras.losses.categorical_crossentropy\n",
        "\n",
        "# Use the \"Adam\" adaptive learning algorithm to optimize the filter weights\n",
        "opt = tf.keras.optimizers.Adam(learning_rate=0.0001)\n",
        "\n",
        "# Compile the model using the specified loss function and potimizer\n",
        "model.compile(loss=loss_func, optimizer=opt, metrics=['accuracy'])"
      ],
      "execution_count": 10,
      "outputs": []
    },
    {
      "cell_type": "code",
      "metadata": {
        "id": "ffPMiOYRwzgS",
        "colab_type": "code",
        "colab": {
          "base_uri": "https://localhost:8080/",
          "height": 357
        },
        "outputId": "130f65ff-4875-4399-c0dd-ec808dcf1b29"
      },
      "source": [
        "# Train Model\n",
        "\n",
        "#This function is called after each epoch\n",
        "#(It will ensure that your training process does not consume all available RAM)\n",
        "class garbage_collect_callback(tf.keras.callbacks.Callback):\n",
        "  def on_epoch_end(self, epoch, logs=None):\n",
        "    gc.collect()\n",
        "\n",
        "history = model.fit(train_images,   # Train examples\n",
        "          train_labels,             # Train labels\n",
        "          epochs=10,                # number of epochs\n",
        "          batch_size= 200,          # number of images for each iteration\n",
        "          callbacks=[garbage_collect_callback()],\n",
        "          validation_data=(test_images, test_labels), # Data for validation\n",
        "          verbose=True)             # Print info about optimization process\n"
      ],
      "execution_count": 11,
      "outputs": [
        {
          "output_type": "stream",
          "text": [
            "Epoch 1/10\n",
            "20/20 [==============================] - 7s 334ms/step - loss: 2.0912 - accuracy: 0.1435 - val_loss: 2.0479 - val_accuracy: 0.1620\n",
            "Epoch 2/10\n",
            "20/20 [==============================] - 6s 325ms/step - loss: 2.0238 - accuracy: 0.1810 - val_loss: 2.0061 - val_accuracy: 0.1530\n",
            "Epoch 3/10\n",
            "20/20 [==============================] - 7s 330ms/step - loss: 1.9777 - accuracy: 0.1612 - val_loss: 1.9656 - val_accuracy: 0.1530\n",
            "Epoch 4/10\n",
            "20/20 [==============================] - 7s 327ms/step - loss: 1.9341 - accuracy: 0.1775 - val_loss: 1.9187 - val_accuracy: 0.1820\n",
            "Epoch 5/10\n",
            "20/20 [==============================] - 7s 329ms/step - loss: 1.8833 - accuracy: 0.1950 - val_loss: 1.8658 - val_accuracy: 0.2090\n",
            "Epoch 6/10\n",
            "20/20 [==============================] - 7s 327ms/step - loss: 1.8311 - accuracy: 0.2257 - val_loss: 1.8140 - val_accuracy: 0.2240\n",
            "Epoch 7/10\n",
            "20/20 [==============================] - 7s 332ms/step - loss: 1.7807 - accuracy: 0.2450 - val_loss: 1.7680 - val_accuracy: 0.2310\n",
            "Epoch 8/10\n",
            "20/20 [==============================] - 7s 328ms/step - loss: 1.7335 - accuracy: 0.2545 - val_loss: 1.7242 - val_accuracy: 0.2420\n",
            "Epoch 9/10\n",
            "20/20 [==============================] - 7s 327ms/step - loss: 1.6895 - accuracy: 0.2652 - val_loss: 1.6799 - val_accuracy: 0.2480\n",
            "Epoch 10/10\n",
            "20/20 [==============================] - 7s 332ms/step - loss: 1.6474 - accuracy: 0.2690 - val_loss: 1.6396 - val_accuracy: 0.2460\n"
          ],
          "name": "stdout"
        }
      ]
    },
    {
      "cell_type": "markdown",
      "metadata": {
        "id": "dF1ufZSGeZ5m",
        "colab_type": "text"
      },
      "source": [
        "## Evaluate Model Performance\n",
        "\n",
        "Now that the model has been trained, we can use it to generate predictions and evaluate its performance."
      ]
    },
    {
      "cell_type": "code",
      "metadata": {
        "colab_type": "code",
        "id": "_ngFO-dYMfZa",
        "colab": {
          "base_uri": "https://localhost:8080/",
          "height": 51
        },
        "outputId": "7225d5d7-9c05-4808-ab04-b848ce63f690"
      },
      "source": [
        "# Evaluate model using test_images\n",
        "# WARNING: the value returned by model.evaluate depends on what metrics were\n",
        "# given to the model at compile time. Thus, if the metric is no longer accuracy,\n",
        "# the label \"model accuracy\" below will no longer be accurate\n",
        "\n",
        "test_binary_pred = model.predict(test_images)\n",
        "scores = model.evaluate(test_images, test_labels, verbose=False)\n",
        "print('Testing model on test set:')\n",
        "print(f'Model Loss: {scores[0]:.3f}, Model Accuracy: {scores[1]:.3f}')"
      ],
      "execution_count": 12,
      "outputs": [
        {
          "output_type": "stream",
          "text": [
            "Testing model on test set:\n",
            "Model Loss: 1.640, Model Accuracy: 0.246\n"
          ],
          "name": "stdout"
        }
      ]
    },
    {
      "cell_type": "markdown",
      "metadata": {
        "colab_type": "text",
        "id": "sjAqutu2MfZf"
      },
      "source": [
        "Let's take a look at the confusion matrix for these model predictions"
      ]
    },
    {
      "cell_type": "code",
      "metadata": {
        "id": "yXGdzQ25e7gz",
        "colab_type": "code",
        "colab": {
          "base_uri": "https://localhost:8080/",
          "height": 153
        },
        "outputId": "dbc70b2d-fb7c-4c18-9590-d0bc8269289f"
      },
      "source": [
        "# First, convert the one-hot encoded true labels and predictied labels back into\n",
        "# a numerical classification value. This can be accomplished with the `argmax`\n",
        "# function and that neat `axis` keyword, again.\n",
        "test_true_labels = test_labels.argmax(axis=1)\n",
        "test_pred_labels = test_binary_pred.argmax(axis=1)\n",
        "\n",
        "# Generate the confusion matrix using these labels\n",
        "mat = confusion_matrix(test_true_labels, test_pred_labels)\n",
        "print(mat)"
      ],
      "execution_count": 13,
      "outputs": [
        {
          "output_type": "stream",
          "text": [
            "[[ 38  35  50   0   0   0   0   0]\n",
            " [  7  55  22   1   2   0  33   0]\n",
            " [ 57  26  44   1   2   0   5   0]\n",
            " [  3  48   7   5   1   0  66   0]\n",
            " [ 10  62  14   0   1   0  42   0]\n",
            " [125   0   0   0   0   0   0   0]\n",
            " [  1  11   0   0   0   0 103   0]\n",
            " [121   0   2   0   0   0   0   0]]\n"
          ],
          "name": "stdout"
        }
      ]
    },
    {
      "cell_type": "markdown",
      "metadata": {
        "id": "WS3XfFfiftub",
        "colab_type": "text"
      },
      "source": [
        "To get a more visual representation of the matrix, let's plot it in matplotlib."
      ]
    },
    {
      "cell_type": "code",
      "metadata": {
        "colab_type": "code",
        "id": "h7RYbDzyMfZm",
        "colab": {
          "base_uri": "https://localhost:8080/",
          "height": 580
        },
        "outputId": "38166733-3402-4bf0-cd2a-d02b9bbfe622"
      },
      "source": [
        "# Generate a new figure\n",
        "plt.figure(figsize=(10,10))\n",
        "\n",
        "# Display the confusion matrix\n",
        "plt.imshow(mat, cmap='hot', interpolation='nearest')\n",
        "\n",
        "# Add some anotation for the plot\n",
        "plt.colorbar()\n",
        "plt.xlabel('True label')\n",
        "plt.ylabel('Predicted label')\n",
        "plt.show()"
      ],
      "execution_count": 14,
      "outputs": [
        {
          "output_type": "display_data",
          "data": {
            "image/png": "[encoded data removed]",
            "text/plain": [
              "<Figure size 720x720 with 2 Axes>"
            ]
          },
          "metadata": {
            "tags": [],
            "needs_background": "light"
          }
        }
      ]
    }
  ]
}